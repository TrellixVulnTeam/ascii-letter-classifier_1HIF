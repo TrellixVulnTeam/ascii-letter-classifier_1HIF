{
 "cells": [
  {
   "cell_type": "markdown",
   "metadata": {},
   "source": [
    "## Make ASCII letter images\n",
    "**Based on a matplotlib [demo](https://matplotlib.org/gallery/text_labels_and_annotations/fonts_demo_kw.html#sphx-glr-gallery-text-labels-and-annotations-fonts-demo-kw-py)**"
   ]
  },
  {
   "cell_type": "code",
   "execution_count": 1,
   "metadata": {},
   "outputs": [],
   "source": [
    "%matplotlib inline\n",
    "import matplotlib.pyplot as plt\n",
    "\n",
    "import random\n",
    "import string\n",
    "from io import BytesIO\n",
    "from pathlib import Path\n",
    "\n",
    "import imageio\n",
    "import numpy as np\n",
    "from skimage.color import rgb2gray\n",
    "from skimage.transform import resize"
   ]
  },
  {
   "cell_type": "code",
   "execution_count": 2,
   "metadata": {},
   "outputs": [],
   "source": [
    "families = ['serif', 'sans-serif', 'cursive', 'fantasy', 'monospace']\n",
    "styles = ['normal', 'italic', 'oblique']\n",
    "variants = ['normal', 'small-caps']\n",
    "weights = ['light', 'normal', 'medium', 'semibold', 'bold', 'heavy', 'black']\n",
    "sizes = ['xx-small', 'x-small', 'small', 'medium', 'large', 'x-large', 'xx-large']"
   ]
  },
  {
   "cell_type": "code",
   "execution_count": 3,
   "metadata": {},
   "outputs": [],
   "source": [
    "def generate_letter(letter: str) -> np.ndarray:\n",
    "    # Plot letter\n",
    "    buffer = BytesIO()\n",
    "    plt.figure(figsize=(10, 10))\n",
    "    plt.text(\n",
    "        0.5, 0.5, letter,\n",
    "        family=random.choice(families),\n",
    "        style=random.choice(styles),\n",
    "        variant=random.choice(variants),\n",
    "        weight=random.choice(weights),\n",
    "        size=random.choice(sizes),\n",
    "        fontsize=128,\n",
    "        horizontalalignment='center',\n",
    "        verticalalignment='center',\n",
    "    )\n",
    "    plt.axis('off')\n",
    "    plt.savefig(buffer, format='png')\n",
    "    plt.close()\n",
    "    \n",
    "    buffer.seek(0)\n",
    "    img = imageio.imread(buffer)\n",
    "    \n",
    "    # Transform to square grayscale\n",
    "    img = rgb2gray(img)\n",
    "    min_i, min_j = np.argwhere(img < 1).min(axis=0)\n",
    "    max_i, max_j = np.argwhere(img < 1).max(axis=0)\n",
    "    img = img[min_i:max_i, min_j:max_j]\n",
    "    h, w = img.shape\n",
    "    height_pad = int(h * .1)\n",
    "    width_pad = int(w * .1)\n",
    "    img = np.pad(\n",
    "        img,\n",
    "        ((height_pad, height_pad), (width_pad, width_pad)),\n",
    "        mode='constant', constant_values=1\n",
    "    )\n",
    "    img = resize(\n",
    "        img, (32, 32),\n",
    "        mode='constant',\n",
    "        anti_aliasing=True,\n",
    "    )\n",
    "    return (img * 255).astype(np.uint8)"
   ]
  },
  {
   "cell_type": "code",
   "execution_count": 4,
   "metadata": {},
   "outputs": [],
   "source": [
    "images = Path('letters')\n",
    "images.mkdir(exist_ok=True)\n",
    "for letter in string.ascii_lowercase:\n",
    "    letter_images = images/f'{letter}'\n",
    "    letter_images.mkdir(exist_ok=True)\n",
    "    for i in range(100):\n",
    "        if random.uniform(0, 1) < 0.5:\n",
    "            img = generate_letter(letter)\n",
    "        else:\n",
    "            img = generate_letter(letter.upper())\n",
    "        path = str(letter_images/f'{i:02d}.jpg')\n",
    "        imageio.imwrite(path, img)"
   ]
  }
 ],
 "metadata": {
  "kernelspec": {
   "display_name": "letters",
   "language": "python",
   "name": "letters"
  },
  "language_info": {
   "codemirror_mode": {
    "name": "ipython",
    "version": 3
   },
   "file_extension": ".py",
   "mimetype": "text/x-python",
   "name": "python",
   "nbconvert_exporter": "python",
   "pygments_lexer": "ipython3",
   "version": "3.6.8"
  }
 },
 "nbformat": 4,
 "nbformat_minor": 2
}
